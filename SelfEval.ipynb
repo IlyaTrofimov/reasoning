{
 "cells": [
  {
   "cell_type": "code",
   "execution_count": 267,
   "id": "9bcb1168-5445-49e6-9f8c-80bd71357d70",
   "metadata": {},
   "outputs": [],
   "source": [
    "import os\n",
    "import sys\n",
    "import pickle\n",
    "import re"
   ]
  },
  {
   "cell_type": "markdown",
   "id": "3f6ca581-1782-417c-8e06-2ce1d2094822",
   "metadata": {},
   "source": [
    "### Create dataset for MBPP"
   ]
  },
  {
   "cell_type": "code",
   "execution_count": 248,
   "id": "47823ea0-7f02-4fd3-8800-03454eca9283",
   "metadata": {},
   "outputs": [],
   "source": [
    "SELF_EVAL_PROMPT = '''Instruction: Please evaluate the truthfulness of the proposed answer based on the given problem and internal knowledge.\n",
    "\n",
    "Problem: You are an expert Python programmer, and here is your task: Write a function to find the similar elements from the given two tuple lists. Your code should pass these tests:\n",
    "assert similar_elements((3, 4, 5, 6),(5, 7, 4, 10)) == (4, 5)\n",
    "assert similar_elements((1, 2, 3, 4),(5, 4, 3, 7)) == (3, 4)\n",
    "assert similar_elements((11, 12, 14, 13),(17, 15, 14, 13)) == (13, 14)\n",
    "Proposed Answer:\n",
    "def similar_elements(test_tup1, test_tup2):\n",
    "  res = tuple(set(test_tup1) & set(test_tup2))\n",
    "  return (res)\n",
    "\n",
    "Is the proposed answer:\n",
    "A. True\n",
    "B. False\n",
    "The proposed answer is: A. True\n",
    "\n",
    "Problem: [PROBLEM]\n",
    "Proposed Answer: [ANSWER]\n",
    "Is the proposed answer:\n",
    "A. True\n",
    "B. False\n",
    "The proposed answer is:'''"
   ]
  },
  {
   "cell_type": "code",
   "execution_count": 249,
   "id": "ca4ed301-3f3e-4c11-ad8f-25625fb49e61",
   "metadata": {},
   "outputs": [],
   "source": [
    "problems = pickle.load(open('/hcode/mbpp_problems.pickle', 'rb'))"
   ]
  },
  {
   "cell_type": "code",
   "execution_count": 250,
   "id": "42c1bc81-457b-4d95-bf49-f36e4ab1b981",
   "metadata": {},
   "outputs": [],
   "source": [
    "def remove_few_shot(p):\n",
    "    c = problems['MBPP/0']['prompt'].find('[DONE]')\n",
    "    return p[c:].replace('[BEGIN]', '').replace('[DONE]', '').strip('\\n')"
   ]
  },
  {
   "cell_type": "code",
   "execution_count": 252,
   "id": "510203db-f0b0-4681-a31c-3f19d657f78b",
   "metadata": {},
   "outputs": [
    {
     "data": {
      "text/plain": [
       "1761"
      ]
     },
     "execution_count": 252,
     "metadata": {},
     "output_type": "execute_result"
    }
   ],
   "source": [
    "len(general_prompt)"
   ]
  },
  {
   "cell_type": "code",
   "execution_count": 253,
   "id": "7634e3a4-9632-4f51-a67c-03358092661e",
   "metadata": {},
   "outputs": [],
   "source": [
    "NUM_TASKS = 510"
   ]
  },
  {
   "cell_type": "code",
   "execution_count": 254,
   "id": "7bd0bfd0-8d94-4a72-a8c7-cae9510edce3",
   "metadata": {},
   "outputs": [],
   "source": [
    "tasks = []\n",
    "\n",
    "for i in range(NUM_TASKS):\n",
    "    results_code1 = pickle.load(open('/mbpp_results2/%d_code.pickle' % i, 'rb'))\n",
    "    \n",
    "    for seed in range(1):\n",
    "        for k in range(5):\n",
    "            he_prompt = remove_few_shot(problems['MBPP/%d' % i]['prompt'])\n",
    "            he_generation = results_code1[('MBPP/%d' % i, seed)][0][k]\n",
    "            \n",
    "            prompt = SELF_EVAL_PROMPT.replace('[PROBLEM]', he_prompt)\n",
    "            prompt = prompt.replace('[ANSWER]', he_generation)\n",
    "            tasks.append(prompt)"
   ]
  },
  {
   "cell_type": "code",
   "execution_count": 256,
   "id": "be07b2a0-6b1f-432c-a399-beb50bcbe6a5",
   "metadata": {},
   "outputs": [],
   "source": [
    "pickle.dump(tasks, open('self_eval_mbpp_tasks.pickle', 'wb'))"
   ]
  },
  {
   "cell_type": "code",
   "execution_count": 257,
   "id": "9680a4c2-32ca-4627-8a32-f47f7e1920dd",
   "metadata": {},
   "outputs": [
    {
     "data": {
      "text/plain": [
       "2550"
      ]
     },
     "execution_count": 257,
     "metadata": {},
     "output_type": "execute_result"
    }
   ],
   "source": [
    "len(tasks)"
   ]
  },
  {
   "cell_type": "code",
   "execution_count": 258,
   "id": "c66bff2e-a3d3-475d-a53d-06079cbb362f",
   "metadata": {},
   "outputs": [],
   "source": [
    "A = pickle.load(open('/self_eval_mbpp/%d.pickle' % 0, 'rb'))"
   ]
  },
  {
   "cell_type": "code",
   "execution_count": 259,
   "id": "2e0a33e1-3a58-4971-b349-5a50b7aace1e",
   "metadata": {},
   "outputs": [
    {
     "data": {
      "text/plain": [
       "[' A. True\\n\\nProblem: You are an expert Python programmer, and here is your task: Write a function to find the minimum cost path to reach (']"
      ]
     },
     "execution_count": 259,
     "metadata": {},
     "output_type": "execute_result"
    }
   ],
   "source": [
    "A"
   ]
  },
  {
   "cell_type": "code",
   "execution_count": 260,
   "id": "19c3ed01-0d77-424e-93b3-d095fc326cec",
   "metadata": {},
   "outputs": [],
   "source": [
    "res = []\n",
    "\n",
    "for i in range(2550):\n",
    "    answer = pickle.load(open('/self_eval_mbpp/%d.pickle' % i, 'rb'))\n",
    "\n",
    "    res.append(answer[0].strip(' ').strip('\\n')[0])"
   ]
  },
  {
   "cell_type": "code",
   "execution_count": 261,
   "id": "357105af-632a-48ce-9fc3-a5d3fca85840",
   "metadata": {},
   "outputs": [],
   "source": [
    "pickle.dump(res, open('/hcode/self_eval_mbpp_res.pickle', 'wb'))"
   ]
  },
  {
   "cell_type": "markdown",
   "id": "979d6a83-1d2e-41c3-a1ea-046870ef9113",
   "metadata": {},
   "source": [
    "### Create dataset for HE"
   ]
  },
  {
   "cell_type": "code",
   "execution_count": 268,
   "id": "736ac7be-f2a1-4c2a-be15-0d1ad702de6d",
   "metadata": {},
   "outputs": [],
   "source": [
    "SELF_EVAL_PROMPT = '''Instruction: Please evaluate the truthfulness of the proposed answer based on the given problem and internal knowledge.\n",
    "Problem: [PROBLEM]\n",
    "Proposed Answer: [ANSWER]\n",
    "Is the proposed answer:\n",
    "A. True\n",
    "B. False\n",
    "The proposed answer is:'''"
   ]
  },
  {
   "cell_type": "code",
   "execution_count": 269,
   "id": "79bae844-52b5-40ff-986e-8eef979a306b",
   "metadata": {},
   "outputs": [],
   "source": [
    "problems = pickle.load(open('/he_problems.pickle', 'rb'))"
   ]
  },
  {
   "cell_type": "code",
   "execution_count": 270,
   "id": "8eb505cd-56ec-41ef-bb03-7ee5ca82584e",
   "metadata": {},
   "outputs": [],
   "source": [
    "NUM_TASKS = 164"
   ]
  },
  {
   "cell_type": "code",
   "execution_count": 271,
   "id": "d59f32fc-67ee-421f-8199-43d004c65259",
   "metadata": {},
   "outputs": [],
   "source": [
    "tasks = []\n",
    "\n",
    "for i in range(NUM_TASKS):\n",
    "    results_code1 = pickle.load(open('/he_results2/%d_code.pickle' % i, 'rb'))\n",
    "    \n",
    "    for seed in range(5):\n",
    "        for k in range(5):\n",
    "            he_prompt = problems['HumanEval/%d' % i]['prompt']\n",
    "            he_generation = results_code1[('HumanEval/%d' % i, seed)][0][k]\n",
    "            \n",
    "            prompt = SELF_EVAL_PROMPT.replace('[PROBLEM]', extract_triple_quoted_text(he_prompt))\n",
    "            prompt = prompt.replace('[ANSWER]', extract_outside_triple_quotes_v2(he_prompt) + '\\n' + he_generation)\n",
    "            tasks.append(prompt)"
   ]
  },
  {
   "cell_type": "code",
   "execution_count": 272,
   "id": "fee2c841-3f8f-475a-88c4-66850d6ec624",
   "metadata": {},
   "outputs": [],
   "source": [
    "pickle.dump(tasks, open('self_eval_he_tasks.pickle', 'wb'))"
   ]
  },
  {
   "cell_type": "code",
   "execution_count": 273,
   "id": "79caa830-d902-4471-8f80-e3bb6e15a8f3",
   "metadata": {},
   "outputs": [],
   "source": [
    "def extract_triple_quoted_text(text):\n",
    "    \"\"\"\n",
    "    Extracts all text blocks enclosed in triple quotes (\\\"\\\"\\\" \\\"\\\"\\\") from the input text.\n",
    "    \n",
    "    Args:\n",
    "        text (str): The input string to search for triple-quoted blocks.\n",
    "    \n",
    "    Returns:\n",
    "        list: A list of all matched triple-quoted text blocks (without the quotes).\n",
    "    \"\"\"\n",
    "    pattern = r'\"\"\"(.*?)\"\"\"'\n",
    "    # Using re.DOTALL flag to make . match newlines as well\n",
    "    matches = re.findall(pattern, text, re.DOTALL)\n",
    "    return ''.join([match.strip() for match in matches])"
   ]
  },
  {
   "cell_type": "code",
   "execution_count": 274,
   "id": "4f92a8ce-2881-400e-8aea-c787589ee35a",
   "metadata": {},
   "outputs": [],
   "source": [
    "def extract_outside_triple_quotes_v2(text):\n",
    "    \"\"\"\n",
    "    Alternative implementation using split()\n",
    "    \"\"\"\n",
    "    # Split on triple quotes and take every other segment\n",
    "    segments = re.split(r'\\\"\\\"\\\"', text)\n",
    "    # The segments outside quotes are at even indices (0, 2, 4...)\n",
    "    outside_segments = [segments[i].strip() for i in range(0, len(segments), 2)]\n",
    "    return ''.join([seg for seg in outside_segments if seg])  # Filter empty strings"
   ]
  },
  {
   "cell_type": "code",
   "execution_count": 275,
   "id": "ce98a075-b2ac-4984-b7e3-5f7ec9bc2e81",
   "metadata": {},
   "outputs": [],
   "source": [
    "res = []\n",
    "\n",
    "for i in range(4100):\n",
    "    answer = pickle.load(open('/self_eval_he/%d.pickle' % i, 'rb'))\n",
    "\n",
    "    res.append(answer[0].strip(' ').strip('\\n')[0])"
   ]
  },
  {
   "cell_type": "code",
   "execution_count": 276,
   "id": "5a0eb971-f8d9-4d3e-88f5-446094df7052",
   "metadata": {},
   "outputs": [],
   "source": [
    "pickle.dump(res, open('/hcode/self_eval_he_res.pickle', 'wb'))"
   ]
  },
  {
   "cell_type": "code",
   "execution_count": null,
   "id": "4b5e7afe-7673-4713-9903-db5eb44f511b",
   "metadata": {},
   "outputs": [],
   "source": []
  }
 ],
 "metadata": {
  "kernelspec": {
   "display_name": "Python 3 (ipykernel)",
   "language": "python",
   "name": "python3"
  },
  "language_info": {
   "codemirror_mode": {
    "name": "ipython",
    "version": 3
   },
   "file_extension": ".py",
   "mimetype": "text/x-python",
   "name": "python",
   "nbconvert_exporter": "python",
   "pygments_lexer": "ipython3",
   "version": "3.11.7"
  }
 },
 "nbformat": 4,
 "nbformat_minor": 5
}
