{
 "cells": [
  {
   "cell_type": "code",
   "execution_count": 10,
   "id": "05c5ad7e-b481-4def-b489-21cb201e0751",
   "metadata": {},
   "outputs": [],
   "source": [
    "import os\n",
    "import sys\n",
    "import numpy as np\n",
    "from matplotlib import pyplot as plt"
   ]
  },
  {
   "cell_type": "code",
   "execution_count": 2,
   "id": "fa8db948-884f-4805-aa57-cc4e0edd0db3",
   "metadata": {},
   "outputs": [],
   "source": [
    "inf = float('inf')"
   ]
  },
  {
   "cell_type": "code",
   "execution_count": 3,
   "id": "0a6a51bf-f3a0-4641-8ce0-2e3ba39172d5",
   "metadata": {},
   "outputs": [],
   "source": [
    "M = np.array([[  0,   0,   0, inf, inf, inf, inf,   5],\n",
    "              [  0,   0,   0,   0, inf,   2,   6, inf],\n",
    "              [  0,   0,   0, inf,   1, inf, inf, inf],\n",
    "              [inf,   0, inf,   0, inf, inf,   4, inf],\n",
    "              [inf, inf,   1, inf,   0, inf, inf, inf],\n",
    "              [inf,   2, inf, inf, inf,    0,  3, inf],\n",
    "              [inf,   6, inf,   4, inf,    3,  0, inf],\n",
    "              [  5, inf, inf, inf, inf, inf, inf,   0],])"
   ]
  },
  {
   "cell_type": "code",
   "execution_count": 4,
   "id": "cd9a5d2b-46c9-43da-9fdf-7b09af05d79a",
   "metadata": {},
   "outputs": [],
   "source": [
    "from gph import ripser_parallel"
   ]
  },
  {
   "cell_type": "markdown",
   "id": "d5da156d-a1ba-46e5-8a31-36c5a9fda8bc",
   "metadata": {},
   "source": [
    "r = ripser_parallel(M, metric = 'precomputed', n_threads = -1)"
   ]
  },
  {
   "cell_type": "code",
   "execution_count": 8,
   "id": "7bdfe412-0abd-4c16-9a91-75142fa70fe5",
   "metadata": {},
   "outputs": [],
   "source": [
    "from barcodes import plot_barcodes"
   ]
  },
  {
   "cell_type": "code",
   "execution_count": 16,
   "id": "29cb62a0-7a1f-4054-95a2-2f278f3dc560",
   "metadata": {},
   "outputs": [
    {
     "data": {
      "image/png": "[encoded data removed]",
      "text/plain": [
       "<Figure size 400x200 with 1 Axes>"
      ]
     },
     "metadata": {},
     "output_type": "display_data"
    }
   ],
   "source": [
    "fig, ax = plt.subplots(1, 1)\n",
    "fig.set_size_inches((4, 2))\n",
    "plot_barcodes([r['dgms'][0], r['dgms'][1]], title = '', ax = ax, fig = fig)   \n",
    "fig.tight_layout()\n",
    "plt.show()"
   ]
  },
  {
   "cell_type": "code",
   "execution_count": null,
   "id": "0b7f173b-61b4-4dd2-b3ac-140a49940ae7",
   "metadata": {},
   "outputs": [],
   "source": []
  },
  {
   "cell_type": "code",
   "execution_count": null,
   "id": "1eec4abf-bcf7-4c89-aac4-2439bdc4ff6f",
   "metadata": {},
   "outputs": [],
   "source": []
  },
  {
   "cell_type": "code",
   "execution_count": null,
   "id": "da818919-fadd-4d2b-bca3-9f137f4786c4",
   "metadata": {},
   "outputs": [],
   "source": []
  },
  {
   "cell_type": "markdown",
   "id": "522a32c6-bdf6-461b-bce9-355ede6701a8",
   "metadata": {},
   "source": [
    "### For pipeline"
   ]
  },
  {
   "cell_type": "code",
   "execution_count": 85,
   "id": "5e1cc14f-9a56-4f73-b5e7-ddce849b9557",
   "metadata": {},
   "outputs": [],
   "source": [
    "M = np.array([[  0,   0,   0, inf, inf, inf, inf,   5],\n",
    "              [  0,   0,   0,   0, inf,   2,   6, inf],\n",
    "              [  0,   0,   0, inf,   1, inf, inf, inf],\n",
    "              [inf,   0, inf,   0, inf, inf,   4, inf],\n",
    "              [inf, inf,   1, inf,   0, inf, inf, inf],\n",
    "              [inf,   2, inf, inf, inf,    0,  3, inf],\n",
    "              [inf,   6, inf,   4, inf,    3,  0, inf],\n",
    "              [  5, inf, inf, inf, inf, inf, inf,   0],])"
   ]
  },
  {
   "cell_type": "code",
   "execution_count": 86,
   "id": "af7d78b7-0eb9-4ccd-89ba-92a5cc64f3dc",
   "metadata": {},
   "outputs": [],
   "source": [
    "for i in range(M.shape[0]):\n",
    "    for j in range(M.shape[0]):\n",
    "        if M[i, j] > 0 or M[i, j] == float('inf'):\n",
    "            M[i, j] = np.random.randint(0, 5)"
   ]
  },
  {
   "cell_type": "code",
   "execution_count": 87,
   "id": "56922eff-fea3-409e-a825-c2947b636470",
   "metadata": {},
   "outputs": [],
   "source": [
    "M = M + M.T"
   ]
  },
  {
   "cell_type": "code",
   "execution_count": 88,
   "id": "021edb0f-f24f-47fc-96e9-99bc80d8ada6",
   "metadata": {},
   "outputs": [
    {
     "data": {
      "text/plain": [
       "False"
      ]
     },
     "execution_count": 88,
     "metadata": {},
     "output_type": "execute_result"
    }
   ],
   "source": [
    "M[0, 4] == float('inf')"
   ]
  },
  {
   "cell_type": "code",
   "execution_count": 89,
   "id": "9db7b226-6bb3-48db-a826-1278466c1cd9",
   "metadata": {},
   "outputs": [],
   "source": [
    "r = ripser_parallel(M, metric = 'precomputed', n_threads = -1)"
   ]
  },
  {
   "cell_type": "code",
   "execution_count": 90,
   "id": "dafb0e59-dbd1-4728-841f-7d216347c30a",
   "metadata": {},
   "outputs": [
    {
     "data": {
      "image/png": "[encoded data removed]",
      "text/plain": [
       "<Figure size 400x200 with 1 Axes>"
      ]
     },
     "metadata": {},
     "output_type": "display_data"
    }
   ],
   "source": [
    "fig, ax = plt.subplots(1, 1)\n",
    "fig.set_size_inches((4, 2))\n",
    "plot_barcodes([r['dgms'][0], r['dgms'][1]], title = '', ax = ax, fig = fig)   \n",
    "fig.tight_layout()\n",
    "ax.axes.xaxis.set_visible(False)\n",
    "ax.axes.yaxis.set_visible(False)\n",
    "plt.show()"
   ]
  },
  {
   "cell_type": "code",
   "execution_count": null,
   "id": "ee69e272-5f1b-49b1-a5fb-5874f529245b",
   "metadata": {},
   "outputs": [],
   "source": []
  },
  {
   "cell_type": "code",
   "execution_count": null,
   "id": "f1514489-c16f-4e71-9606-6b93aa0e9ef6",
   "metadata": {},
   "outputs": [],
   "source": []
  },
  {
   "cell_type": "code",
   "execution_count": null,
   "id": "a33e125f-c30a-441b-92eb-6b5ad05393a8",
   "metadata": {},
   "outputs": [],
   "source": []
  },
  {
   "cell_type": "code",
   "execution_count": null,
   "id": "35688a12-d35b-49c3-8d62-0ab97df4f565",
   "metadata": {},
   "outputs": [],
   "source": []
  }
 ],
 "metadata": {
  "kernelspec": {
   "display_name": "Python 3 (ipykernel)",
   "language": "python",
   "name": "python3"
  },
  "language_info": {
   "codemirror_mode": {
    "name": "ipython",
    "version": 3
   },
   "file_extension": ".py",
   "mimetype": "text/x-python",
   "name": "python",
   "nbconvert_exporter": "python",
   "pygments_lexer": "ipython3",
   "version": "3.11.7"
  }
 },
 "nbformat": 4,
 "nbformat_minor": 5
}
